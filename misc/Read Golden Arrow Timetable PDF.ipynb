{
 "cells": [
  {
   "cell_type": "code",
   "execution_count": 29,
   "metadata": {},
   "outputs": [],
   "source": [
    "import PyPDF2\n",
    "import csv\n",
    "import glob\n",
    "import os"
   ]
  },
  {
   "cell_type": "code",
   "execution_count": 37,
   "metadata": {},
   "outputs": [
    {
     "name": "stdout",
     "output_type": "stream",
     "text": [
      "successfully saved fileBELLVILLE___AIRPORT_IND_valid_from_20190401_to_99999999_004401.pdf\n",
      "successfully saved fileBELLVILLE___AIRPORT_IND_valid_from_20190401_to_99999999_004401.pdf\n",
      "successfully saved fileBELLVILLE___ATLANTIS_valid_from_20190401_to_99999999_010504.pdf\n",
      "successfully saved fileBELLVILLE___ATLANTIS_valid_from_20190401_to_99999999_010504.pdf\n",
      "successfully saved fileBELLVILLE___BLUEDOWNS_valid_from_20190401_to_99999999_007502.pdf\n",
      "successfully saved fileBELLVILLE___BLUEDOWNS_valid_from_20190401_to_99999999_007502.pdf\n",
      "Not sure what happened with BELLVILLE___CAPE_GATE_valid_from_20190321_to_20190321_001902.pdf\n",
      "successfully saved fileBELLVILLE___CAPE_TOWN_valid_from_20190401_to_99999999_000102.pdf\n",
      "successfully saved fileBELLVILLE___CAPE_TOWN_valid_from_20190401_to_99999999_000102.pdf\n",
      "successfully saved fileBELLVILLE___DELFT_valid_from_20190401_to_99999999_007502.pdf\n",
      "successfully saved fileBELLVILLE___DELFT_valid_from_20190401_to_99999999_007502.pdf\n",
      "successfully saved fileBELLVILLE___DURBANVILLE_valid_from_20190401_to_99999999_002402.pdf\n",
      "successfully saved fileBELLVILLE___DURBANVILLE_valid_from_20190401_to_99999999_002402.pdf\n",
      "successfully saved fileBELLVILLE___DURBANVILLE_valid_from_20190401_to_99999999_002502.pdf\n",
      "successfully saved fileBELLVILLE___DURBANVILLE_valid_from_20190401_to_99999999_002502.pdf\n",
      "successfully saved fileBELLVILLE___DURBANVILLE_valid_from_20190401_to_99999999_010504.pdf\n",
      "successfully saved fileBELLVILLE___DURBANVILLE_valid_from_20190401_to_99999999_010504.pdf\n",
      "successfully saved fileBELLVILLE___DURBANVILLE_valid_from_20190401_to_99999999_013302.pdf\n",
      "successfully saved fileBELLVILLE___DURBANVILLE_valid_from_20190401_to_99999999_013302.pdf\n",
      "successfully saved fileBELLVILLE___ELSIES_RIVER_valid_from_20190401_to_99999999_000102.pdf\n",
      "successfully saved fileBELLVILLE___ELSIES_RIVER_valid_from_20190401_to_99999999_000102.pdf\n",
      "successfully saved fileBELLVILLE___EVERSDAL_valid_from_20190401_to_99999999_002502.pdf\n",
      "successfully saved fileBELLVILLE___EVERSDAL_valid_from_20190401_to_99999999_002502.pdf\n",
      "successfully saved fileBELLVILLE___HANOVER_PARK_valid_from_20190401_to_99999999_003602.pdf\n",
      "successfully saved fileBELLVILLE___HANOVER_PARK_valid_from_20190401_to_99999999_003602.pdf\n",
      "successfully saved fileBELLVILLE___HARARE_valid_from_20190401_to_99999999_006202.pdf\n",
      "successfully saved fileBELLVILLE___HARARE_valid_from_20190401_to_99999999_006202.pdf\n",
      "successfully saved fileBELLVILLE___KENRIDGE_valid_from_20190401_to_99999999_005002.pdf\n",
      "successfully saved fileBELLVILLE___KENRIDGE_valid_from_20190401_to_99999999_005002.pdf\n",
      "successfully saved fileBELLVILLE___KHAYELITSHA_valid_from_20190401_to_99999999_006202.pdf\n",
      "successfully saved fileBELLVILLE___KHAYELITSHA_valid_from_20190401_to_99999999_006202.pdf\n",
      "successfully saved fileBELLVILLE___KHAYELITSHA_valid_from_20190401_to_99999999_006302.pdf\n",
      "successfully saved fileBELLVILLE___KHAYELITSHA_valid_from_20190401_to_99999999_006302.pdf\n",
      "successfully saved fileBELLVILLE___KILLARNEY_valid_from_20190401_to_99999999_010504.pdf\n",
      "successfully saved fileBELLVILLE___KILLARNEY_valid_from_20190401_to_99999999_010504.pdf\n",
      "successfully saved fileBELLVILLE___MAKHAZA_valid_from_20190401_to_99999999_006302.pdf\n",
      "successfully saved fileBELLVILLE___MAKHAZA_valid_from_20190401_to_99999999_006302.pdf\n",
      "successfully saved fileBELLVILLE___MAMRE_valid_from_20190401_to_99999999_010504.pdf\n",
      "successfully saved fileBELLVILLE___MAMRE_valid_from_20190401_to_99999999_010504.pdf\n",
      "successfully saved fileBELLVILLE___MOWBRAY_valid_from_20190401_to_99999999_002302.pdf\n",
      "successfully saved fileBELLVILLE___MOWBRAY_valid_from_20190401_to_99999999_002302.pdf\n",
      "successfully saved fileBELLVILLE___NYANGA_valid_from_20190401_to_99999999_004402.pdf\n",
      "successfully saved fileBELLVILLE___NYANGA_valid_from_20190401_to_99999999_004402.pdf\n",
      "successfully saved fileBELLVILLE___PHILIPPI_valid_from_20190401_to_99999999_013302.pdf\n",
      "successfully saved fileBELLVILLE___PHILIPPI_valid_from_20190401_to_99999999_013302.pdf\n",
      "successfully saved fileBELLVILLE___SCOTTSDENE_valid_from_20190401_to_99999999_002402.pdf\n",
      "successfully saved fileBELLVILLE___SCOTTSDENE_valid_from_20190401_to_99999999_002402.pdf\n",
      "successfully saved fileBELLVILLE___STRAND_valid_from_20190311_to_99999999_021302.pdf\n",
      "successfully saved fileBELLVILLE___STRAND_valid_from_20190311_to_99999999_021302.pdf\n",
      "Not sure what happened with BELLVILLE___TYGER_VALLEY_valid_from_20190321_to_20190321_008502.pdf\n",
      "successfully saved fileBELLVILLE___TYGER_VALLEY_valid_from_20190401_to_99999999_002502.pdf\n",
      "successfully saved fileBELLVILLE___TYGER_VALLEY_valid_from_20190401_to_99999999_002502.pdf\n",
      "successfully saved fileBELLVILLE___TYGER_VALLEY_valid_from_20190401_to_99999999_007502.pdf\n",
      "successfully saved fileBELLVILLE___TYGER_VALLEY_valid_from_20190401_to_99999999_007502.pdf\n"
     ]
    }
   ],
   "source": [
    "path = 'D:\\\\001_Projects\\\\08 - Bellville\\\\BellvilleTT\\\\'\n",
    "\n",
    "filenames = glob.glob(path + \"/*.pdf\")\n",
    "\n",
    "for filename in filenames:\n",
    "    try:\n",
    "        PdfFileObj = open(filename, 'rb')\n",
    "        name = os.path.basename(filename)\n",
    "        pdfReader = PyPDF2.PdfFileReader(PdfFileObj)\n",
    "\n",
    "        for i in range(num_of_pages):\n",
    "            pageObj = pdfReader.getPage(i)\n",
    "            text = pageObj.extractText()\n",
    "            text = text.replace('  -- ','').replace(' |',',').replace('| ','\\n').replace('|',',').replace('via  ','via')\n",
    "            text = text.replace(',-','\\n').replace('-','').replace(', ,',',')\n",
    "\n",
    "            with open(path + name + str(i) +'.csv', 'w') as csvfile:\n",
    "                csvfile.write(text)\n",
    "            print('successfully saved file' + name)\n",
    "    except:\n",
    "        print('Not sure what happened with ' + name)\n"
   ]
  },
  {
   "cell_type": "code",
   "execution_count": null,
   "metadata": {},
   "outputs": [],
   "source": []
  }
 ],
 "metadata": {
  "kernelspec": {
   "display_name": "Python [conda env:playground]",
   "language": "python",
   "name": "conda-env-playground-py"
  },
  "language_info": {
   "codemirror_mode": {
    "name": "ipython",
    "version": 3
   },
   "file_extension": ".py",
   "mimetype": "text/x-python",
   "name": "python",
   "nbconvert_exporter": "python",
   "pygments_lexer": "ipython3",
   "version": "3.6.4"
  }
 },
 "nbformat": 4,
 "nbformat_minor": 2
}
