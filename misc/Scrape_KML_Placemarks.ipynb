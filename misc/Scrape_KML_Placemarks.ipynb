{
 "cells": [
  {
   "cell_type": "code",
   "execution_count": null,
   "metadata": {},
   "outputs": [],
   "source": [
    "from bs4 import BeautifulSoup\n",
    "import csv"
   ]
  },
  {
   "cell_type": "code",
   "execution_count": null,
   "metadata": {},
   "outputs": [],
   "source": [
    "RawXML = open('D:\\doc.xml', 'r')\n",
    "KML = BeautifulSoup(RawXML, 'lxml')\n",
    "for names in KML.find_all('name'):\n",
    "    print(names.text)"
   ]
  },
  {
   "cell_type": "code",
   "execution_count": null,
   "metadata": {},
   "outputs": [],
   "source": [
    "data = []\n",
    "with open('D:\\KML Export\\CBD Count.csv', 'a', newline='') as csv_file:\n",
    "    writer = csv.writer(csv_file)\n",
    "    for message in KML.find_all('placemark'):\n",
    "        coordinates = message.find('coordinates').text\n",
    "        names = message.findAll('name')\n",
    "        for name in names:\n",
    "            text = name.find(text = True)\n",
    "        data.append(locationdata)\n",
    "        writer.writerow([text,coordinates])"
   ]
  },
  {
   "cell_type": "code",
   "execution_count": null,
   "metadata": {},
   "outputs": [],
   "source": []
  }
 ],
 "metadata": {
  "kernelspec": {
   "display_name": "Python 3",
   "language": "python",
   "name": "python3"
  },
  "language_info": {
   "codemirror_mode": {
    "name": "ipython",
    "version": 3
   },
   "file_extension": ".py",
   "mimetype": "text/x-python",
   "name": "python",
   "nbconvert_exporter": "python",
   "pygments_lexer": "ipython3",
   "version": "3.6.4"
  }
 },
 "nbformat": 4,
 "nbformat_minor": 2
}
