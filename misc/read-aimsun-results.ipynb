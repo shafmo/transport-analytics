{
 "cells": [
  {
   "cell_type": "code",
   "execution_count": 1,
   "metadata": {},
   "outputs": [],
   "source": [
    "import sqlite3\n",
    "import pandas as pd\n"
   ]
  },
  {
   "cell_type": "code",
   "execution_count": 2,
   "metadata": {},
   "outputs": [],
   "source": [
    "con = sqlite3.connect(\"D:/001_Projects/09 - Cargo TIA/03 Aimsun/Model/502942 ACSA Cargo Precinct V12.sqlite\")\n",
    "cur = con.cursor()\n"
   ]
  },
  {
   "cell_type": "code",
   "execution_count": 24,
   "metadata": {},
   "outputs": [],
   "source": [
    "AM = 69879\n",
    "PM = 69889\n",
    "\n",
    "#AM = 64926\n",
    "#PM = 64938\n"
   ]
  },
  {
   "cell_type": "code",
   "execution_count": 25,
   "metadata": {},
   "outputs": [],
   "source": [
    "turn = pd.read_sql_query('select * from MITURN WHERE did == %d OR did == %d' % (AM,PM), con)\n",
    "node = pd.read_sql_query('select * from HCMMINODE WHERE did == %d OR did == %d' % (AM,PM), con)\n",
    "approach = pd.read_sql_query('select * from HCMMIAPPROACH WHERE did == %d OR did == %d' % (AM,PM), con)"
   ]
  },
  {
   "cell_type": "code",
   "execution_count": 26,
   "metadata": {},
   "outputs": [],
   "source": [
    "turn = turn[(turn.sid == 0)]\n",
    "\n",
    "turn2 = turn\n",
    "node2 = node\n",
    "approach2 = approach\n",
    "\n",
    "turn2 = turn2[turn2['ent'].between(2, 5)]\n",
    "\n",
    "turn3 = turn2.groupby(['did','oid']).agg({'dtime':'max',\n",
    "                                          'count':'sum'}).reset_index()\n",
    "\n",
    "turn4 = turn3.pivot(index ='oid', columns ='did', values =['dtime','count']).reset_index()\n",
    "\n",
    "node3 = node2.groupby(['did','oid'])[['los']].max().reset_index()\n",
    "node4 = node3.pivot(index ='oid', columns ='did', values =['los']).reset_index()\n",
    "\n",
    "approach3 = approach2.groupby(['did','oid'])[['los','queue_delay', 'queue_length', 'queue_overflow']].max().reset_index()\n",
    "approach4 = approach3.pivot(index ='oid', columns ='did', values =['los','queue_delay', 'queue_length', 'queue_overflow']).reset_index()\n",
    "\n",
    "#turn3.head(15)\n"
   ]
  },
  {
   "cell_type": "code",
   "execution_count": 27,
   "metadata": {},
   "outputs": [
    {
     "data": {
      "text/plain": [
       "did\n",
       "69879    40.645430\n",
       "69889    98.367428\n",
       "dtype: float64"
      ]
     },
     "execution_count": 27,
     "metadata": {},
     "output_type": "execute_result"
    }
   ],
   "source": [
    "approach4['queue_delay'].mean()"
   ]
  },
  {
   "cell_type": "code",
   "execution_count": 28,
   "metadata": {},
   "outputs": [
    {
     "data": {
      "text/plain": [
       "did\n",
       "69879    2.447368\n",
       "69889    2.500000\n",
       "dtype: float64"
      ]
     },
     "execution_count": 28,
     "metadata": {},
     "output_type": "execute_result"
    }
   ],
   "source": [
    "node4['los'].mean()"
   ]
  },
  {
   "cell_type": "code",
   "execution_count": 29,
   "metadata": {},
   "outputs": [],
   "source": [
    "turn4.to_csv('D:/2029 PWV15 K90S turn.csv')\n",
    "node4.to_csv('D:/2029 PWV15 K90S node.csv')\n",
    "approach4.to_csv('D:/2029 PWV15 K90S approach.csv')"
   ]
  },
  {
   "cell_type": "code",
   "execution_count": null,
   "metadata": {},
   "outputs": [],
   "source": []
  }
 ],
 "metadata": {
  "kernelspec": {
   "display_name": "Python 3",
   "language": "python",
   "name": "python3"
  },
  "language_info": {
   "codemirror_mode": {
    "name": "ipython",
    "version": 3
   },
   "file_extension": ".py",
   "mimetype": "text/x-python",
   "name": "python",
   "nbconvert_exporter": "python",
   "pygments_lexer": "ipython3",
   "version": "3.8.3"
  }
 },
 "nbformat": 4,
 "nbformat_minor": 4
}
