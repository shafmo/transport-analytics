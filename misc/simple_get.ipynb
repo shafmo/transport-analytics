{
 "cells": [
  {
   "cell_type": "code",
   "execution_count": 1,
   "metadata": {},
   "outputs": [],
   "source": [
    "from requests import get\n",
    "from requests.exceptions import RequestException\n",
    "from contextlib import closing\n",
    "from bs4 import BeautifulSoup\n",
    "import csv"
   ]
  },
  {
   "cell_type": "code",
   "execution_count": 2,
   "metadata": {},
   "outputs": [],
   "source": [
    "def simple_get(url):\n",
    "    \"\"\"\n",
    "    Attempts to get the content at `url` by making an HTTP GET request.\n",
    "    If the content-type of response is some kind of HTML/XML, return the\n",
    "    text content, otherwise return None\n",
    "    \"\"\"\n",
    "    try:\n",
    "        with closing(get(url, stream=True)) as resp:\n",
    "            if is_good_response(resp):\n",
    "                return resp.content\n",
    "            else:\n",
    "                return None\n",
    "\n",
    "    except RequestException as e:\n",
    "        log_error('Error during requests to {0} : {1}'.format(url, str(e)))\n",
    "        return None\n",
    "\n",
    "\n",
    "def is_good_response(resp):\n",
    "    \"\"\"\n",
    "    Returns true if the response seems to be HTML, false otherwise\n",
    "    \"\"\"\n",
    "    content_type = resp.headers['Content-Type'].lower()\n",
    "    return (resp.status_code == 200 \n",
    "            and content_type is not None \n",
    "            and content_type.find('html') > -1)\n",
    "\n",
    "\n",
    "def log_error(e):\n",
    "    \"\"\"\n",
    "    It is always a good idea to log errors. \n",
    "    This function just prints them, but you can\n",
    "    make it do anything.\n",
    "    \"\"\"\n",
    "    print(e)"
   ]
  },
  {
   "cell_type": "code",
   "execution_count": 4,
   "metadata": {},
   "outputs": [
    {
     "data": {
      "text/plain": [
       "82018"
      ]
     },
     "execution_count": 4,
     "metadata": {},
     "output_type": "execute_result"
    }
   ],
   "source": [
    "raw_html = simple_get('https://www.maxinc.co.za/collections/headlights')\n",
    "len(raw_html)"
   ]
  },
  {
   "cell_type": "code",
   "execution_count": 7,
   "metadata": {},
   "outputs": [
    {
     "name": "stdout",
     "output_type": "stream",
     "text": [
      "6.75 INCH Matte Black Universal Metal Classic Headlight 1050\n",
      "Black Universal Metal Twin Headlight - 2 x 35 Watt Halogen Bulbs 1380\n",
      "6.75 INCH Matte Black Prison Bar Grill Metal Headlight - H4 / 55w Halogen Bulb 1380\n",
      "MAX 7.5\" Matte Black Large Mesh Grill Headlight 2700\n",
      "MAX 5 3/4\" LED Daymaker Projector Headlight for Harley & Universal (Black Face) 1860\n",
      "6.5 INCH Matte Black Universal Aluminium Prison Bar Headlight 340\n",
      "High Grade Self Adhesive Yellow Headlight Protective Film - 45cm x 37cm 890\n",
      "5 1/2\" Bates Style Matte Black Metal Headlight - 12v / 35w 1380\n",
      "Chrome Universal Metal Twin Headlight - 2 x 35 Watt Halogen Bulbs 460\n",
      "7 INCH Matte Black Prison Bar Grill Metal Headlight Cover 1050\n",
      "6.75 INCH Chrome Universal Metal Classic Headlight 2990\n",
      "7.5\" Gloss Black Metal LED Headlight + Integrated DRL & Turn Signals 2900\n",
      "MAX 7\" LED Daymaker Projector Headlight for Harley & Universal (Black Face) 890\n",
      "4.5 INCH Black Bates Style Metal Headlight - Yellow Lens 2700\n",
      "MAX 5 3/4\" LED Daymaker Projector Headlight for Harley & Universal 460\n",
      "7 INCH Matte Black Mesh Grill Metal Headlight Cover 1900\n",
      "MAX 7.5\" Chrome Mesh Grill Headlight 1100\n",
      "6.75 INCH Chrome Prison Bar Grill Metal Headlight - H4 / 55w Halogen Bulb 3150\n",
      "5.75\" Bates Style LED Daymaker Chrome Headlight 1110\n"
     ]
    }
   ],
   "source": []
  },
  {
   "cell_type": "code",
   "execution_count": null,
   "metadata": {},
   "outputs": [],
   "source": []
  }
 ],
 "metadata": {
  "kernelspec": {
   "display_name": "Python 3",
   "language": "python",
   "name": "python3"
  },
  "language_info": {
   "codemirror_mode": {
    "name": "ipython",
    "version": 3
   },
   "file_extension": ".py",
   "mimetype": "text/x-python",
   "name": "python",
   "nbconvert_exporter": "python",
   "pygments_lexer": "ipython3",
   "version": "3.8.3"
  }
 },
 "nbformat": 4,
 "nbformat_minor": 4
}
