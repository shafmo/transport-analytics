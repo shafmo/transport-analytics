{
 "cells": [
  {
   "cell_type": "code",
   "execution_count": 2,
   "metadata": {},
   "outputs": [],
   "source": [
    "import pandas as pd"
   ]
  },
  {
   "cell_type": "code",
   "execution_count": 36,
   "metadata": {},
   "outputs": [],
   "source": [
    "filename = 'data.csv'\n",
    "path ='D:/001_Projects/01 - GIPTN/02 - Application development/05 - Socio-economic study/User/%s' % (filename)\n",
    "data = pd.read_csv(path)"
   ]
  },
  {
   "cell_type": "code",
   "execution_count": 37,
   "metadata": {},
   "outputs": [],
   "source": [
    "data['Q01_LATENESS'] = pd.np.where(data.Q01.str.contains(\"Lateness of bus\"), 1,\n",
    "                   pd.np.where(data.Q01.str.contains(\"Laat bus\"), 1,\n",
    "                   pd.np.where(data.Q01.str.contains(\"Ukufika emva kwexesha kwebhasi\"), 1, 0)))\n",
    "data['Q01_DRIVERB'] = pd.np.where(data.Q01.str.contains(\"Behaviour of driver\"), 1,\n",
    "                   pd.np.where(data.Q01.str.contains(\"Gedrag\"), 1,\n",
    "                   pd.np.where(data.Q01.str.contains(\"Ukuziphatha komqhubi\"), 1, 0)))\n",
    "data['Q01_NOTSTOPPING'] = pd.np.where(data.Q01.str.contains(\"Not stopping\"), 1,\n",
    "                   pd.np.where(data.Q01.str.contains(\"Stop nie \"), 1,\n",
    "                   pd.np.where(data.Q01.str.contains(\"Ukungamisi\"), 1, 0)))\n",
    "data['Q01_MISSEDTRIPS'] = pd.np.where(data.Q01.str.contains(\"Missed trips\"), 1,\n",
    "                   pd.np.where(data.Q01.str.contains(\"Ritte wat nie plaasvind\"), 1,\n",
    "                   pd.np.where(data.Q01.str.contains(\"Ukushiywa yibhasi\"), 1, 0)))\n",
    "data['Q01_RECKLESS'] = pd.np.where(data.Q01.str.contains(\"Reckless driving\"), 1,\n",
    "                   pd.np.where(data.Q01.str.contains(\"Onverskillige bestuur\"), 1,\n",
    "                   pd.np.where(data.Q01.str.contains(\"Ukuqhuba ngokungenankathalo\"), 1, 0)))\n",
    "data['Q01_OTHER'] = pd.np.where(data.Q01.str.contains(\"Other\"), 1,\n",
    "                   pd.np.where(data.Q01.str.contains(\"Enye\"), 1,\n",
    "                   pd.np.where(data.Q01.str.contains(\"Ander\"), 1, 0)))\n",
    "\n",
    "data['Q02'] = data['Q02'].astype(str)\n",
    "data['Q02'] = data['Q02'].replace(['Never', 'Perhaps', 'Always'], \n",
    "                                  [1, 2, 3])\n",
    "\n",
    "data['Q03'] = data['Q03'].replace([True, False], \n",
    "                                  [1, 2])\n",
    "\n",
    "data['Q04'] = data['Q04'].astype(str)\n",
    "data['Q04'] = data['Q04'].replace(['less than R10', 'between R10 and R50', \n",
    "                                   'between R51 and R100', 'between R100 and 150', \n",
    "                                   'R151 and more'], \n",
    "                                  [1, 2, 3, 4, 5]\n",
    "                                 )\n",
    "\n",
    "data['Q05'] = data['Q05'].replace([True, False], \n",
    "                                  [1, 2])\n",
    "\n",
    "data['Q06'] = data['Q06'].replace(['Too expensive', 'Do not know where to get one', \n",
    "                                   'Prefer to pay cash on the bus', 'Other'], \n",
    "                                  [1, 2, 3, 4]\n",
    "                                 )\n",
    "\n",
    "data['Q07'] = data['Q07'].replace([True, False], \n",
    "                                  [1, 2])\n",
    "\n",
    "data['Q08'] = data['Q08'].replace(['Did not work on card machine in bus', \n",
    "                                   'Was damaged', 'Trips loaded did not reflect on card', \n",
    "                                   'Defective card', 'Other. Please specify.'], \n",
    "                                  [1, 2, 3, 4, 5]\n",
    "                                 )\n",
    "\n",
    "data['Q10'] = data['Q10'].replace([True, False], \n",
    "                                  [1, 2])\n",
    "\n",
    "data.AGE = data.AGE.replace(['0-18', '19-35', '36-45', '46-60', '61+'], \n",
    "                                  [1, 2, 3, 4, 5])\n",
    "\n",
    "data.EMPLOYMENT_STATUS = data.EMPLOYMENT_STATUS.replace(['Full time', 'Part time', \n",
    "                                                         'Student', 'Unemployed', 'Retired', \n",
    "                                                         'Discouraged work-seeker'], \n",
    "                                                        [1, 2, 3, 4, 5, 6]\n",
    "                                                       )\n",
    "\n",
    "data.GENDER = data.GENDER.replace(['Male', 'Female', 'Prefer not to say', 'Non-binary/third gender'], \n",
    "                                  [1, 2, 3, 4])\n",
    "\n",
    "data.DISABILITY = data.DISABILITY.replace(['Specific learning disability (SLD)', \n",
    "                                           'Other health impairment', \n",
    "                                           'Autism spectrum disorder (ASD)', \n",
    "                                           'Visual impairment, including blindness', \n",
    "                                           'Deafness', \n",
    "                                           'Hearing impairment', \n",
    "                                           'Physical Disability',\n",
    "                                          'Temporary disability',\n",
    "                                          'None'],\n",
    "                                          [1, 2, 3, 4, 5, 6, 7, 8, 9]\n",
    "                                         )\n"
   ]
  },
  {
   "cell_type": "code",
   "execution_count": 38,
   "metadata": {
    "scrolled": false
   },
   "outputs": [],
   "source": [
    "save_path = 'D:/001_Projects/01 - GIPTN/02 - Application development/05 - Socio-economic study/User/Test.csv'\n",
    "data.to_csv(save_path)"
   ]
  },
  {
   "cell_type": "code",
   "execution_count": null,
   "metadata": {
    "scrolled": true
   },
   "outputs": [],
   "source": [
    "data"
   ]
  },
  {
   "cell_type": "code",
   "execution_count": null,
   "metadata": {},
   "outputs": [],
   "source": []
  }
 ],
 "metadata": {
  "kernelspec": {
   "display_name": "Python 3",
   "language": "python",
   "name": "python3"
  },
  "language_info": {
   "codemirror_mode": {
    "name": "ipython",
    "version": 3
   },
   "file_extension": ".py",
   "mimetype": "text/x-python",
   "name": "python",
   "nbconvert_exporter": "python",
   "pygments_lexer": "ipython3",
   "version": "3.6.4"
  }
 },
 "nbformat": 4,
 "nbformat_minor": 2
}
