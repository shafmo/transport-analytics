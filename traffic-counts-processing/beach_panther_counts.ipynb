{
 "cells": [
  {
   "cell_type": "code",
   "execution_count": 1,
   "metadata": {},
   "outputs": [
    {
     "data": {
      "text/html": [
       "        <script type=\"text/javascript\">\n",
       "        window.PlotlyConfig = {MathJaxConfig: 'local'};\n",
       "        if (window.MathJax) {MathJax.Hub.Config({SVG: {font: \"STIX-Web\"}});}\n",
       "        if (typeof require !== 'undefined') {\n",
       "        require.undef(\"plotly\");\n",
       "        requirejs.config({\n",
       "            paths: {\n",
       "                'plotly': ['https://cdn.plot.ly/plotly-latest.min']\n",
       "            }\n",
       "        });\n",
       "        require(['plotly'], function(Plotly) {\n",
       "            window._Plotly = Plotly;\n",
       "        });\n",
       "        }\n",
       "        </script>\n",
       "        "
      ]
     },
     "metadata": {},
     "output_type": "display_data"
    }
   ],
   "source": [
    "import pandas as pd\n",
    "import glob\n",
    "import ntpath\n",
    "import plotly\n",
    "import plotly.graph_objs as go\n",
    "\n",
    "plotly.offline.init_notebook_mode(connected=True)\n"
   ]
  },
  {
   "cell_type": "code",
   "execution_count": 2,
   "metadata": {},
   "outputs": [],
   "source": [
    "def readxl(filename):\n",
    "    '''\n",
    "    This reads the excel sheet counts when in the correct format\n",
    "    \n",
    "    '''\n",
    "    counts = pd.read_excel(filename, sheet_name= 'Counts', header=2)\n",
    "    movements = pd.read_excel(filename, sheet_name= 'Layout', usecols= 'M:O', nrows=12)\n",
    "    counts = counts.merge(movements, left_on='turn', right_on='movement code')\n",
    "    counts['intersection'] = ntpath.basename(filename).split('.')[0]\n",
    "    return counts\n",
    "\n",
    "def reformat(df):\n",
    "    df = df.melt(id_vars= ['intersection','approach','direction','start','end'], \n",
    "             value_vars=['motorcycle','passenger car','two-axle truck','multi-axle truck','minibus taxi','standard bus'],\n",
    "             var_name='vehicle class', value_name='Count')\n",
    "\n",
    "    #df['start'], df['end'] =  pd.to_datetime(df['start']), pd.to_datetime(df['end'])\n",
    "\n",
    "    df15 = df.groupby(['intersection','vehicle class','approach','direction','end']).sum()\n",
    "    df60 = df15.rolling(4).sum()\n",
    "    \n",
    "    return df60\n"
   ]
  },
  {
   "cell_type": "code",
   "execution_count": 3,
   "metadata": {},
   "outputs": [],
   "source": [
    "path ='D:/001_Projects/01 - GIPTN/01 - Microsimulation/01 - Beach Road Complete/Traffic Counts/raw/' \n",
    "\n",
    "file_list = glob.glob(path + \"/*.xlsx\")\n",
    "df_list = [readxl(file) for file in file_list]\n",
    "\n",
    "if df_list:\n",
    "    counts = pd.concat(df_list, axis=0, sort=False) \n"
   ]
  },
  {
   "cell_type": "code",
   "execution_count": 7,
   "metadata": {},
   "outputs": [
    {
     "data": {
      "text/html": [
       "<div>\n",
       "<style scoped>\n",
       "    .dataframe tbody tr th:only-of-type {\n",
       "        vertical-align: middle;\n",
       "    }\n",
       "\n",
       "    .dataframe tbody tr th {\n",
       "        vertical-align: top;\n",
       "    }\n",
       "\n",
       "    .dataframe thead th {\n",
       "        text-align: right;\n",
       "    }\n",
       "</style>\n",
       "<table border=\"1\" class=\"dataframe\">\n",
       "  <thead>\n",
       "    <tr style=\"text-align: right;\">\n",
       "      <th></th>\n",
       "      <th>vehicle class</th>\n",
       "      <th>minibus taxi</th>\n",
       "      <th>motorcycle</th>\n",
       "      <th>multi-axle truck</th>\n",
       "      <th>passenger car</th>\n",
       "      <th>standard bus</th>\n",
       "      <th>two-axle truck</th>\n",
       "    </tr>\n",
       "    <tr>\n",
       "      <th>intersection</th>\n",
       "      <th>end</th>\n",
       "      <th></th>\n",
       "      <th></th>\n",
       "      <th></th>\n",
       "      <th></th>\n",
       "      <th></th>\n",
       "      <th></th>\n",
       "    </tr>\n",
       "  </thead>\n",
       "  <tbody>\n",
       "    <tr>\n",
       "      <th rowspan=\"5\" valign=\"top\">Beach &amp; Beukes</th>\n",
       "      <th>06:15:00</th>\n",
       "      <td>1.0</td>\n",
       "      <td>4.0</td>\n",
       "      <td>8.0</td>\n",
       "      <td>351.0</td>\n",
       "      <td>21.0</td>\n",
       "      <td>15.0</td>\n",
       "    </tr>\n",
       "    <tr>\n",
       "      <th>06:30:00</th>\n",
       "      <td>2.0</td>\n",
       "      <td>2.0</td>\n",
       "      <td>6.0</td>\n",
       "      <td>275.0</td>\n",
       "      <td>16.0</td>\n",
       "      <td>16.0</td>\n",
       "    </tr>\n",
       "    <tr>\n",
       "      <th>06:45:00</th>\n",
       "      <td>3.0</td>\n",
       "      <td>3.0</td>\n",
       "      <td>3.0</td>\n",
       "      <td>253.0</td>\n",
       "      <td>13.0</td>\n",
       "      <td>14.0</td>\n",
       "    </tr>\n",
       "    <tr>\n",
       "      <th>07:00:00</th>\n",
       "      <td>7.0</td>\n",
       "      <td>1.0</td>\n",
       "      <td>2.0</td>\n",
       "      <td>271.0</td>\n",
       "      <td>10.0</td>\n",
       "      <td>13.0</td>\n",
       "    </tr>\n",
       "    <tr>\n",
       "      <th>07:15:00</th>\n",
       "      <td>7.0</td>\n",
       "      <td>3.0</td>\n",
       "      <td>4.0</td>\n",
       "      <td>360.0</td>\n",
       "      <td>12.0</td>\n",
       "      <td>18.0</td>\n",
       "    </tr>\n",
       "  </tbody>\n",
       "</table>\n",
       "</div>"
      ],
      "text/plain": [
       "vehicle class            minibus taxi  motorcycle  multi-axle truck  \\\n",
       "intersection   end                                                    \n",
       "Beach & Beukes 06:15:00           1.0         4.0               8.0   \n",
       "               06:30:00           2.0         2.0               6.0   \n",
       "               06:45:00           3.0         3.0               3.0   \n",
       "               07:00:00           7.0         1.0               2.0   \n",
       "               07:15:00           7.0         3.0               4.0   \n",
       "\n",
       "vehicle class            passenger car  standard bus  two-axle truck  \n",
       "intersection   end                                                    \n",
       "Beach & Beukes 06:15:00          351.0          21.0            15.0  \n",
       "               06:30:00          275.0          16.0            16.0  \n",
       "               06:45:00          253.0          13.0            14.0  \n",
       "               07:00:00          271.0          10.0            13.0  \n",
       "               07:15:00          360.0          12.0            18.0  "
      ]
     },
     "execution_count": 7,
     "metadata": {},
     "output_type": "execute_result"
    }
   ],
   "source": [
    "df60f.head()"
   ]
  },
  {
   "cell_type": "code",
   "execution_count": 8,
   "metadata": {},
   "outputs": [],
   "source": [
    "filename = 'grouped2.csv'\n",
    "reformat(counts).to_csv(path+filename)"
   ]
  },
  {
   "cell_type": "code",
   "execution_count": 4,
   "metadata": {},
   "outputs": [],
   "source": [
    "def plot_total(vehicle_class):\n",
    "    data = [go.Bar(x=df60f.index, y=df60f[vehicle_class])]\n",
    "\n",
    "    layout = go.Layout(\n",
    "        title='60 Min Count Data',\n",
    "        xaxis=dict(\n",
    "            title='Time Ending',\n",
    "            titlefont=dict(\n",
    "                family='Courier New, monospace',\n",
    "                size=14,\n",
    "                color='#7f7f7f'\n",
    "            )\n",
    "        ),\n",
    "        yaxis=dict(\n",
    "            title='Volume (60 mins)',\n",
    "            titlefont=dict(\n",
    "                family='Courier New, monospace',\n",
    "                size=14,\n",
    "                color='#7f7f7f'\n",
    "            )\n",
    "        )\n",
    "    )\n",
    "\n",
    "    fig = go.Figure(data=data, layout=layout)\n",
    "\n",
    "    return plotly.offline.iplot(fig, filename='jupyter-basic_bar')\n",
    "\n",
    "def plot_int(intersection, vehicle_class):\n",
    "    data = [go.Bar(x=df60f.xs(intersection).index, y=df60f.xs(intersection)[vehicle_class])]\n",
    "\n",
    "    layout = go.Layout(\n",
    "        title='60 Min Count Data',\n",
    "        xaxis=dict(\n",
    "            title='Time Ending',\n",
    "            titlefont=dict(\n",
    "                family='Courier New, monospace',\n",
    "                size=14,\n",
    "                color='#7f7f7f'\n",
    "            )\n",
    "        ),\n",
    "        yaxis=dict(\n",
    "            title='Volume (60 mins)',\n",
    "            titlefont=dict(\n",
    "                family='Courier New, monospace',\n",
    "                size=14,\n",
    "                color='#7f7f7f'\n",
    "            )\n",
    "        )\n",
    "    )\n",
    "\n",
    "    fig = go.Figure(data=data, layout=layout)\n",
    "\n",
    "    return plotly.offline.iplot(fig, filename='jupyter-basic_bar')\n"
   ]
  },
  {
   "cell_type": "code",
   "execution_count": 5,
   "metadata": {},
   "outputs": [
    {
     "data": {
      "application/vnd.plotly.v1+json": {
       "config": {
        "linkText": "Export to plot.ly",
        "plotlyServerURL": "https://plot.ly",
        "responsive": true,
        "showLink": false
       },
       "data": [
        {
         "type": "bar",
         "uid": "f41c9327-e04b-4e4c-8ec6-38be84b810c0",
         "x": [
          "06:15:00",
          "06:30:00",
          "06:45:00",
          "07:00:00",
          "07:15:00",
          "07:30:00",
          "07:45:00",
          "08:00:00",
          "08:15:00",
          "08:30:00",
          "08:45:00",
          "09:00:00",
          "15:15:00",
          "15:30:00",
          "15:45:00",
          "16:00:00",
          "16:15:00",
          "16:30:00",
          "16:45:00",
          "17:00:00",
          "17:15:00",
          "17:30:00",
          "17:45:00",
          "18:00:00"
         ],
         "y": [
          1343,
          1073,
          905,
          977,
          1301,
          1517,
          1566,
          1344,
          1124,
          1041,
          855,
          754,
          706,
          611,
          664,
          716,
          836,
          939,
          998,
          1118,
          1240,
          1377,
          1575,
          1660
         ]
        }
       ],
       "layout": {
        "title": {
         "text": "60 Min Count Data"
        },
        "xaxis": {
         "title": {
          "font": {
           "color": "#7f7f7f",
           "family": "Courier New, monospace",
           "size": 14
          },
          "text": "Time Ending"
         }
        },
        "yaxis": {
         "title": {
          "font": {
           "color": "#7f7f7f",
           "family": "Courier New, monospace",
           "size": 14
          },
          "text": "Volume (60 mins)"
         }
        }
       }
      },
      "text/html": [
       "<div>\n",
       "        \n",
       "        \n",
       "            <div id=\"789ee9f1-fe8a-448f-8eb2-016d24c263d2\" class=\"plotly-graph-div\" style=\"height:525px; width:100%;\"></div>\n",
       "            <script type=\"text/javascript\">\n",
       "                require([\"plotly\"], function(Plotly) {\n",
       "                    window.PLOTLYENV=window.PLOTLYENV || {};\n",
       "                    window.PLOTLYENV.BASE_URL='https://plot.ly';\n",
       "                    \n",
       "                if (document.getElementById(\"789ee9f1-fe8a-448f-8eb2-016d24c263d2\")) {\n",
       "                    Plotly.newPlot(\n",
       "                        '789ee9f1-fe8a-448f-8eb2-016d24c263d2',\n",
       "                        [{\"type\": \"bar\", \"uid\": \"90feb790-93f3-4001-b2be-6d2b851c4695\", \"x\": [\"06:15:00\", \"06:30:00\", \"06:45:00\", \"07:00:00\", \"07:15:00\", \"07:30:00\", \"07:45:00\", \"08:00:00\", \"08:15:00\", \"08:30:00\", \"08:45:00\", \"09:00:00\", \"15:15:00\", \"15:30:00\", \"15:45:00\", \"16:00:00\", \"16:15:00\", \"16:30:00\", \"16:45:00\", \"17:00:00\", \"17:15:00\", \"17:30:00\", \"17:45:00\", \"18:00:00\"], \"y\": [1343.0, 1073.0, 905.0, 977.0, 1301.0, 1517.0, 1566.0, 1344.0, 1124.0, 1041.0, 855.0, 754.0, 706.0, 611.0, 664.0, 716.0, 836.0, 939.0, 998.0, 1118.0, 1240.0, 1377.0, 1575.0, 1660.0]}],\n",
       "                        {\"title\": {\"text\": \"60 Min Count Data\"}, \"xaxis\": {\"title\": {\"font\": {\"color\": \"#7f7f7f\", \"family\": \"Courier New, monospace\", \"size\": 14}, \"text\": \"Time Ending\"}}, \"yaxis\": {\"title\": {\"font\": {\"color\": \"#7f7f7f\", \"family\": \"Courier New, monospace\", \"size\": 14}, \"text\": \"Volume (60 mins)\"}}},\n",
       "                        {\"showLink\": false, \"linkText\": \"Export to plot.ly\", \"plotlyServerURL\": \"https://plot.ly\", \"responsive\": true}\n",
       "                    ).then(function(){\n",
       "                            \n",
       "var gd = document.getElementById('789ee9f1-fe8a-448f-8eb2-016d24c263d2');\n",
       "var x = new MutationObserver(function (mutations, observer) {{\n",
       "        var display = window.getComputedStyle(gd).display;\n",
       "        if (!display || display === 'none') {{\n",
       "            console.log([gd, 'removed!']);\n",
       "            Plotly.purge(gd);\n",
       "            observer.disconnect();\n",
       "        }}\n",
       "}});\n",
       "\n",
       "// Listen for the removal of the full notebook cells\n",
       "var notebookContainer = gd.closest('#notebook-container');\n",
       "if (notebookContainer) {{\n",
       "    x.observe(notebookContainer, {childList: true});\n",
       "}}\n",
       "\n",
       "// Listen for the clearing of the current output cell\n",
       "var outputEl = gd.closest('.output');\n",
       "if (outputEl) {{\n",
       "    x.observe(outputEl, {childList: true});\n",
       "}}\n",
       "\n",
       "                        })\n",
       "                };\n",
       "                });\n",
       "            </script>\n",
       "        </div>"
      ]
     },
     "metadata": {},
     "output_type": "display_data"
    }
   ],
   "source": [
    "df60f = reformat(counts).groupby(['end','vehicle class']).Count.sum().unstack()\n",
    "plot_total('passenger car')"
   ]
  },
  {
   "cell_type": "code",
   "execution_count": 6,
   "metadata": {},
   "outputs": [
    {
     "data": {
      "application/vnd.plotly.v1+json": {
       "config": {
        "linkText": "Export to plot.ly",
        "plotlyServerURL": "https://plot.ly",
        "responsive": true,
        "showLink": false
       },
       "data": [
        {
         "type": "bar",
         "uid": "4f35d541-ada8-4d16-841d-45fec0073ba4",
         "x": [
          "06:15:00",
          "06:30:00",
          "06:45:00",
          "07:00:00",
          "07:15:00",
          "07:30:00",
          "07:45:00",
          "08:00:00",
          "08:15:00",
          "08:30:00",
          "08:45:00",
          "09:00:00",
          "15:15:00",
          "15:30:00",
          "15:45:00",
          "16:00:00",
          "16:15:00",
          "16:30:00",
          "16:45:00",
          "17:00:00",
          "17:15:00",
          "17:30:00",
          "17:45:00",
          "18:00:00"
         ],
         "y": [
          351,
          275,
          253,
          271,
          360,
          442,
          455,
          381,
          333,
          268,
          244,
          222,
          214,
          214,
          203,
          226,
          239,
          279,
          297,
          365,
          400,
          427,
          458,
          451
         ]
        }
       ],
       "layout": {
        "title": {
         "text": "60 Min Count Data"
        },
        "xaxis": {
         "title": {
          "font": {
           "color": "#7f7f7f",
           "family": "Courier New, monospace",
           "size": 14
          },
          "text": "Time Ending"
         }
        },
        "yaxis": {
         "title": {
          "font": {
           "color": "#7f7f7f",
           "family": "Courier New, monospace",
           "size": 14
          },
          "text": "Volume (60 mins)"
         }
        }
       }
      },
      "text/html": [
       "<div>\n",
       "        \n",
       "        \n",
       "            <div id=\"f4c820bf-e68d-466d-9227-508a82fb9f9a\" class=\"plotly-graph-div\" style=\"height:525px; width:100%;\"></div>\n",
       "            <script type=\"text/javascript\">\n",
       "                require([\"plotly\"], function(Plotly) {\n",
       "                    window.PLOTLYENV=window.PLOTLYENV || {};\n",
       "                    window.PLOTLYENV.BASE_URL='https://plot.ly';\n",
       "                    \n",
       "                if (document.getElementById(\"f4c820bf-e68d-466d-9227-508a82fb9f9a\")) {\n",
       "                    Plotly.newPlot(\n",
       "                        'f4c820bf-e68d-466d-9227-508a82fb9f9a',\n",
       "                        [{\"type\": \"bar\", \"uid\": \"5422e620-5b2c-4d49-b4d2-6b237a3061b9\", \"x\": [\"06:15:00\", \"06:30:00\", \"06:45:00\", \"07:00:00\", \"07:15:00\", \"07:30:00\", \"07:45:00\", \"08:00:00\", \"08:15:00\", \"08:30:00\", \"08:45:00\", \"09:00:00\", \"15:15:00\", \"15:30:00\", \"15:45:00\", \"16:00:00\", \"16:15:00\", \"16:30:00\", \"16:45:00\", \"17:00:00\", \"17:15:00\", \"17:30:00\", \"17:45:00\", \"18:00:00\"], \"y\": [351.0, 275.0, 253.0, 271.0, 360.0, 442.0, 455.0, 381.0, 333.0, 268.0, 244.0, 222.0, 214.0, 214.0, 203.0, 226.0, 239.0, 279.0, 297.0, 365.0, 400.0, 427.0, 458.0, 451.0]}],\n",
       "                        {\"title\": {\"text\": \"60 Min Count Data\"}, \"xaxis\": {\"title\": {\"font\": {\"color\": \"#7f7f7f\", \"family\": \"Courier New, monospace\", \"size\": 14}, \"text\": \"Time Ending\"}}, \"yaxis\": {\"title\": {\"font\": {\"color\": \"#7f7f7f\", \"family\": \"Courier New, monospace\", \"size\": 14}, \"text\": \"Volume (60 mins)\"}}},\n",
       "                        {\"showLink\": false, \"linkText\": \"Export to plot.ly\", \"plotlyServerURL\": \"https://plot.ly\", \"responsive\": true}\n",
       "                    ).then(function(){\n",
       "                            \n",
       "var gd = document.getElementById('f4c820bf-e68d-466d-9227-508a82fb9f9a');\n",
       "var x = new MutationObserver(function (mutations, observer) {{\n",
       "        var display = window.getComputedStyle(gd).display;\n",
       "        if (!display || display === 'none') {{\n",
       "            console.log([gd, 'removed!']);\n",
       "            Plotly.purge(gd);\n",
       "            observer.disconnect();\n",
       "        }}\n",
       "}});\n",
       "\n",
       "// Listen for the removal of the full notebook cells\n",
       "var notebookContainer = gd.closest('#notebook-container');\n",
       "if (notebookContainer) {{\n",
       "    x.observe(notebookContainer, {childList: true});\n",
       "}}\n",
       "\n",
       "// Listen for the clearing of the current output cell\n",
       "var outputEl = gd.closest('.output');\n",
       "if (outputEl) {{\n",
       "    x.observe(outputEl, {childList: true});\n",
       "}}\n",
       "\n",
       "                        })\n",
       "                };\n",
       "                });\n",
       "            </script>\n",
       "        </div>"
      ]
     },
     "metadata": {},
     "output_type": "display_data"
    }
   ],
   "source": [
    "df60f = reformat(counts).groupby(['intersection','end','vehicle class']).Count.sum().unstack()\n",
    "plot_int('Beach & Beukes', 'passenger car')"
   ]
  },
  {
   "cell_type": "code",
   "execution_count": 11,
   "metadata": {},
   "outputs": [],
   "source": [
    "\n",
    "filename = 'PeriodTotal.csv'\n",
    "path ='D:/001_Projects/01 - GIPTN/01 - Microsimulation/01 - Beach Road Complete/Traffic Counts/%s' % (filename)\n",
    "df60.groupby(['end']).Count.sum().reset_index().to_csv(path)"
   ]
  }
 ],
 "metadata": {
  "kernelspec": {
   "display_name": "Python 3",
   "language": "python",
   "name": "python3"
  },
  "language_info": {
   "codemirror_mode": {
    "name": "ipython",
    "version": 3
   },
   "file_extension": ".py",
   "mimetype": "text/x-python",
   "name": "python",
   "nbconvert_exporter": "python",
   "pygments_lexer": "ipython3",
   "version": "3.6.4"
  }
 },
 "nbformat": 4,
 "nbformat_minor": 2
}
