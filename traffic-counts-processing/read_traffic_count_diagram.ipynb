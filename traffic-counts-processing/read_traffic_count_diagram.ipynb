{
 "cells": [
  {
   "cell_type": "markdown",
   "metadata": {},
   "source": [
    "# Read Balanced Count Data\n",
    "\n",
    "## How to use\n",
    "\n",
    "1. Insert correct file path and file name\n",
    "2. Check names of sheets\n",
    "3. Check positioning of count values and ammend pos\n",
    "4. Check index for project, intersection name and date\n",
    "5. Check position of lookup values\n",
    "5. Insert correct save path \n",
    "\n"
   ]
  },
  {
   "cell_type": "code",
   "execution_count": 1,
   "metadata": {},
   "outputs": [],
   "source": [
    "import pandas as pd\n",
    "import numpy as np"
   ]
  },
  {
   "cell_type": "code",
   "execution_count": 77,
   "metadata": {},
   "outputs": [],
   "source": [
    "file = 'ORTIA Traffic count diagram_MBT.xlsm'\n",
    "root = 'C:/Users/shafeeq.mollagee/OneDrive - Aurecon Group/TIA Microsimulations/01 - Cargo TIA/05 - Turn Count Diagrams/'\n",
    "sheetname = \"PM\"\n",
    "path = root + file"
   ]
  },
  {
   "cell_type": "markdown",
   "metadata": {},
   "source": [
    "## Read all data"
   ]
  },
  {
   "cell_type": "code",
   "execution_count": 78,
   "metadata": {
    "scrolled": true
   },
   "outputs": [],
   "source": [
    "df = pd.read_excel(path, sheet_name= sheetname, header = None).astype(object)\n",
    "intdata = pd.read_excel(path, sheet_name= 'Intersection List', usecols = 'B', nrows = 23)"
   ]
  },
  {
   "cell_type": "code",
   "execution_count": 79,
   "metadata": {},
   "outputs": [],
   "source": [
    "det1 = ['left', 'through', 'right',\n",
    "       'left', 'through', 'right',\n",
    "       'left', 'through', 'right',\n",
    "       'left', 'through', 'right']\n",
    "det2 = ['west', 'west', 'west',\n",
    "       'south', 'south', 'south',\n",
    "       'east', 'east', 'east',\n",
    "       'north', 'north', 'north']\n",
    "pos = [(17,12), (18,12), (19,12),\n",
    "      (27,17), (27,18), (27,19),\n",
    "      (24,27), (23,27), (22,27),\n",
    "      (12,24), (12,23), (12,22)]\n",
    "vclass = df.loc[0,1]\n",
    "time = df.loc[4,1]"
   ]
  },
  {
   "cell_type": "markdown",
   "metadata": {},
   "source": [
    "## Generate and populate dataframe\n"
   ]
  },
  {
   "cell_type": "code",
   "execution_count": 80,
   "metadata": {},
   "outputs": [],
   "source": [
    "#L = (109, 151)\n",
    "#val = 'Great North Rd / Elgin St'\n",
    "\n",
    "def gendata(L, val):\n",
    "    \n",
    "    data =[]\n",
    "\n",
    "    for idx, i in enumerate(pos):\n",
    "        data.append([val, det2[idx], det1[idx], time, vclass,\n",
    "                     df.loc[L[0]+i[0],L[1]+i[1]], ])\n",
    "    \n",
    "    result = pd.DataFrame(data, columns=['intersection', 'approach', 'turn',\n",
    "                                         'time period', 'class', 'count'])\n",
    "    return result\n",
    " "
   ]
  },
  {
   "cell_type": "code",
   "execution_count": 81,
   "metadata": {},
   "outputs": [
    {
     "name": "stdout",
     "output_type": "stream",
     "text": [
      "Dann Rd North / Pomona Rd (1, 151)\n",
      "Highveld Rd / Pomona Rd (28, 65)\n",
      "Atlas Rd / Elgin St (109, 108)\n",
      "Dann Rd South / Pomona Rd (28, 194)\n",
      "Atlas Rd / R21 (66, 108)\n",
      "Great North Rd / Elgin St (109, 151)\n",
      "Sim St / Pomona Rd (28, 237)\n",
      "Atlas Rd / Denel North Rd (281, 108)\n",
      "Bonearo Rd / Elgin St (109, 65)\n",
      "Atlas Rd / Elizabeth Rd (410, 108)\n",
      "Atlas Rd / N12 North (582, 108)\n",
      "Atlas Rd / N12 South (640, 108)\n",
      "Rondebult Rd / Yadlyn Rd (539, 2)\n",
      "Rondebult Rd / N12 North (582, 2)\n",
      "Rondebult Rd / N12 South (640, 2)\n",
      "Atlas Rd / Tempelhofsuid St (152, 108)\n",
      "Atlas Rd / Ohare Ave (195, 108)\n",
      "Atlas Rd / Bass Rd (238, 108)\n",
      "Atlas Rd / Park Rd (324, 108)\n",
      "Atlas Rd / De Havilland Ave (367, 108)\n",
      "Atlas Rd / Mercury St (453, 108)\n",
      "Atlas Rd / Ridge Rd (496, 108)\n",
      "Atlas Rd / Nederberg St (539, 108)\n"
     ]
    }
   ],
   "source": [
    "data = []\n",
    "\n",
    "for i in intdata.index:\n",
    "    val = intdata.at[i,'INTERSECTION']\n",
    "    try:\n",
    "        mask = np.column_stack([df[col].str.contains(val, na=False) for col in df])\n",
    "        find_result = np.where(mask==True)\n",
    "        result = (find_result[0][0], find_result[1][0])\n",
    "        data.append(gendata(result, df.loc[result]))\n",
    "        print(df.loc[result], result)\n",
    "    except:\n",
    "        print('No match found for '+val)\n",
    "\n",
    "stack = pd.concat(data)"
   ]
  },
  {
   "cell_type": "markdown",
   "metadata": {},
   "source": [
    "## Save data to .CSV\n"
   ]
  },
  {
   "cell_type": "code",
   "execution_count": 82,
   "metadata": {},
   "outputs": [],
   "source": [
    "save_path = root + vclass + '_' + '_' + sheetname + '.csv'\n",
    "stack.to_csv(save_path)\n"
   ]
  },
  {
   "cell_type": "code",
   "execution_count": null,
   "metadata": {},
   "outputs": [],
   "source": []
  }
 ],
 "metadata": {
  "kernelspec": {
   "display_name": "Python 3",
   "language": "python",
   "name": "python3"
  },
  "language_info": {
   "codemirror_mode": {
    "name": "ipython",
    "version": 3
   },
   "file_extension": ".py",
   "mimetype": "text/x-python",
   "name": "python",
   "nbconvert_exporter": "python",
   "pygments_lexer": "ipython3",
   "version": "3.6.4"
  }
 },
 "nbformat": 4,
 "nbformat_minor": 2
}
